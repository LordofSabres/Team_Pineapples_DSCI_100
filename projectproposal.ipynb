{
 "cells": [
  {
   "cell_type": "markdown",
   "id": "c609f914-b0b4-4d64-ba70-c31791f388a9",
   "metadata": {},
   "source": [
    "# Predicting Risk of Heart Disease Based on Medical History"
   ]
  },
  {
   "cell_type": "code",
   "execution_count": 1,
   "id": "3375a78e-d138-4ca0-83c3-7df8c3a98e8c",
   "metadata": {},
   "outputs": [
    {
     "name": "stderr",
     "output_type": "stream",
     "text": [
      "── \u001b[1mAttaching packages\u001b[22m ─────────────────────────────────────── tidyverse 1.3.1 ──\n",
      "\n",
      "\u001b[32m✔\u001b[39m \u001b[34mggplot2\u001b[39m 3.3.6     \u001b[32m✔\u001b[39m \u001b[34mpurrr  \u001b[39m 0.3.4\n",
      "\u001b[32m✔\u001b[39m \u001b[34mtibble \u001b[39m 3.1.7     \u001b[32m✔\u001b[39m \u001b[34mdplyr  \u001b[39m 1.0.9\n",
      "\u001b[32m✔\u001b[39m \u001b[34mtidyr  \u001b[39m 1.2.0     \u001b[32m✔\u001b[39m \u001b[34mstringr\u001b[39m 1.4.0\n",
      "\u001b[32m✔\u001b[39m \u001b[34mreadr  \u001b[39m 2.1.2     \u001b[32m✔\u001b[39m \u001b[34mforcats\u001b[39m 0.5.1\n",
      "\n",
      "── \u001b[1mConflicts\u001b[22m ────────────────────────────────────────── tidyverse_conflicts() ──\n",
      "\u001b[31m✖\u001b[39m \u001b[34mdplyr\u001b[39m::\u001b[32mfilter()\u001b[39m masks \u001b[34mstats\u001b[39m::filter()\n",
      "\u001b[31m✖\u001b[39m \u001b[34mdplyr\u001b[39m::\u001b[32mlag()\u001b[39m    masks \u001b[34mstats\u001b[39m::lag()\n",
      "\n",
      "── \u001b[1mAttaching packages\u001b[22m ────────────────────────────────────── tidymodels 1.0.0 ──\n",
      "\n",
      "\u001b[32m✔\u001b[39m \u001b[34mbroom       \u001b[39m 1.0.0     \u001b[32m✔\u001b[39m \u001b[34mrsample     \u001b[39m 1.0.0\n",
      "\u001b[32m✔\u001b[39m \u001b[34mdials       \u001b[39m 1.0.0     \u001b[32m✔\u001b[39m \u001b[34mtune        \u001b[39m 1.0.0\n",
      "\u001b[32m✔\u001b[39m \u001b[34minfer       \u001b[39m 1.0.2     \u001b[32m✔\u001b[39m \u001b[34mworkflows   \u001b[39m 1.0.0\n",
      "\u001b[32m✔\u001b[39m \u001b[34mmodeldata   \u001b[39m 1.0.0     \u001b[32m✔\u001b[39m \u001b[34mworkflowsets\u001b[39m 1.0.0\n",
      "\u001b[32m✔\u001b[39m \u001b[34mparsnip     \u001b[39m 1.0.0     \u001b[32m✔\u001b[39m \u001b[34myardstick   \u001b[39m 1.0.0\n",
      "\u001b[32m✔\u001b[39m \u001b[34mrecipes     \u001b[39m 1.0.1     \n",
      "\n",
      "── \u001b[1mConflicts\u001b[22m ───────────────────────────────────────── tidymodels_conflicts() ──\n",
      "\u001b[31m✖\u001b[39m \u001b[34mscales\u001b[39m::\u001b[32mdiscard()\u001b[39m masks \u001b[34mpurrr\u001b[39m::discard()\n",
      "\u001b[31m✖\u001b[39m \u001b[34mdplyr\u001b[39m::\u001b[32mfilter()\u001b[39m   masks \u001b[34mstats\u001b[39m::filter()\n",
      "\u001b[31m✖\u001b[39m \u001b[34mrecipes\u001b[39m::\u001b[32mfixed()\u001b[39m  masks \u001b[34mstringr\u001b[39m::fixed()\n",
      "\u001b[31m✖\u001b[39m \u001b[34mdplyr\u001b[39m::\u001b[32mlag()\u001b[39m      masks \u001b[34mstats\u001b[39m::lag()\n",
      "\u001b[31m✖\u001b[39m \u001b[34myardstick\u001b[39m::\u001b[32mspec()\u001b[39m masks \u001b[34mreadr\u001b[39m::spec()\n",
      "\u001b[31m✖\u001b[39m \u001b[34mrecipes\u001b[39m::\u001b[32mstep()\u001b[39m   masks \u001b[34mstats\u001b[39m::step()\n",
      "\u001b[34m•\u001b[39m Learn how to get started at \u001b[32mhttps://www.tidymodels.org/start/\u001b[39m\n",
      "\n"
     ]
    }
   ],
   "source": [
    "#run these cells to start\n",
    "\n",
    "library(repr)\n",
    "library(tidyverse)\n",
    "library(tidymodels)\n",
    "options(repr.matrix.max.rows = 6)"
   ]
  },
  {
   "cell_type": "code",
   "execution_count": 2,
   "id": "bdcb67ec-1c93-490d-a87d-46ba28d4028c",
   "metadata": {},
   "outputs": [
    {
     "name": "stderr",
     "output_type": "stream",
     "text": [
      "\u001b[1mRows: \u001b[22m\u001b[34m297\u001b[39m \u001b[1mColumns: \u001b[22m\u001b[34m14\u001b[39m\n",
      "\u001b[36m──\u001b[39m \u001b[1mColumn specification\u001b[22m \u001b[36m────────────────────────────────────────────────────────\u001b[39m\n",
      "\u001b[1mDelimiter:\u001b[22m \",\"\n",
      "\u001b[32mdbl\u001b[39m (14): age, sex, cp, trestbps, chol, fbs, restecg, thalach, exang, oldpea...\n",
      "\n",
      "\u001b[36mℹ\u001b[39m Use `spec()` to retrieve the full column specification for this data.\n",
      "\u001b[36mℹ\u001b[39m Specify the column types or set `show_col_types = FALSE` to quiet this message.\n"
     ]
    },
    {
     "data": {
      "text/html": [
       "<table class=\"dataframe\">\n",
       "<caption>A spec_tbl_df: 297 × 14</caption>\n",
       "<thead>\n",
       "\t<tr><th scope=col>age</th><th scope=col>sex</th><th scope=col>cp</th><th scope=col>trestbps</th><th scope=col>chol</th><th scope=col>fbs</th><th scope=col>restecg</th><th scope=col>thalach</th><th scope=col>exang</th><th scope=col>oldpeak</th><th scope=col>slope</th><th scope=col>ca</th><th scope=col>thal</th><th scope=col>condition</th></tr>\n",
       "\t<tr><th scope=col>&lt;dbl&gt;</th><th scope=col>&lt;dbl&gt;</th><th scope=col>&lt;dbl&gt;</th><th scope=col>&lt;dbl&gt;</th><th scope=col>&lt;dbl&gt;</th><th scope=col>&lt;dbl&gt;</th><th scope=col>&lt;dbl&gt;</th><th scope=col>&lt;dbl&gt;</th><th scope=col>&lt;dbl&gt;</th><th scope=col>&lt;dbl&gt;</th><th scope=col>&lt;dbl&gt;</th><th scope=col>&lt;dbl&gt;</th><th scope=col>&lt;dbl&gt;</th><th scope=col>&lt;dbl&gt;</th></tr>\n",
       "</thead>\n",
       "<tbody>\n",
       "\t<tr><td>69</td><td>1</td><td>0</td><td>160</td><td>234</td><td>1</td><td>2</td><td>131</td><td>0</td><td>0.1</td><td>1</td><td>1</td><td>0</td><td>0</td></tr>\n",
       "\t<tr><td>69</td><td>0</td><td>0</td><td>140</td><td>239</td><td>0</td><td>0</td><td>151</td><td>0</td><td>1.8</td><td>0</td><td>2</td><td>0</td><td>0</td></tr>\n",
       "\t<tr><td>66</td><td>0</td><td>0</td><td>150</td><td>226</td><td>0</td><td>0</td><td>114</td><td>0</td><td>2.6</td><td>2</td><td>0</td><td>0</td><td>0</td></tr>\n",
       "\t<tr><td>⋮</td><td>⋮</td><td>⋮</td><td>⋮</td><td>⋮</td><td>⋮</td><td>⋮</td><td>⋮</td><td>⋮</td><td>⋮</td><td>⋮</td><td>⋮</td><td>⋮</td><td>⋮</td></tr>\n",
       "\t<tr><td>35</td><td>1</td><td>3</td><td>120</td><td>198</td><td>0</td><td>0</td><td>130</td><td>1</td><td>1.6</td><td>1</td><td>0</td><td>2</td><td>1</td></tr>\n",
       "\t<tr><td>35</td><td>0</td><td>3</td><td>138</td><td>183</td><td>0</td><td>0</td><td>182</td><td>0</td><td>1.4</td><td>0</td><td>0</td><td>0</td><td>0</td></tr>\n",
       "\t<tr><td>35</td><td>1</td><td>3</td><td>126</td><td>282</td><td>0</td><td>2</td><td>156</td><td>1</td><td>0.0</td><td>0</td><td>0</td><td>2</td><td>1</td></tr>\n",
       "</tbody>\n",
       "</table>\n"
      ],
      "text/latex": [
       "A spec\\_tbl\\_df: 297 × 14\n",
       "\\begin{tabular}{llllllllllllll}\n",
       " age & sex & cp & trestbps & chol & fbs & restecg & thalach & exang & oldpeak & slope & ca & thal & condition\\\\\n",
       " <dbl> & <dbl> & <dbl> & <dbl> & <dbl> & <dbl> & <dbl> & <dbl> & <dbl> & <dbl> & <dbl> & <dbl> & <dbl> & <dbl>\\\\\n",
       "\\hline\n",
       "\t 69 & 1 & 0 & 160 & 234 & 1 & 2 & 131 & 0 & 0.1 & 1 & 1 & 0 & 0\\\\\n",
       "\t 69 & 0 & 0 & 140 & 239 & 0 & 0 & 151 & 0 & 1.8 & 0 & 2 & 0 & 0\\\\\n",
       "\t 66 & 0 & 0 & 150 & 226 & 0 & 0 & 114 & 0 & 2.6 & 2 & 0 & 0 & 0\\\\\n",
       "\t ⋮ & ⋮ & ⋮ & ⋮ & ⋮ & ⋮ & ⋮ & ⋮ & ⋮ & ⋮ & ⋮ & ⋮ & ⋮ & ⋮\\\\\n",
       "\t 35 & 1 & 3 & 120 & 198 & 0 & 0 & 130 & 1 & 1.6 & 1 & 0 & 2 & 1\\\\\n",
       "\t 35 & 0 & 3 & 138 & 183 & 0 & 0 & 182 & 0 & 1.4 & 0 & 0 & 0 & 0\\\\\n",
       "\t 35 & 1 & 3 & 126 & 282 & 0 & 2 & 156 & 1 & 0.0 & 0 & 0 & 2 & 1\\\\\n",
       "\\end{tabular}\n"
      ],
      "text/markdown": [
       "\n",
       "A spec_tbl_df: 297 × 14\n",
       "\n",
       "| age &lt;dbl&gt; | sex &lt;dbl&gt; | cp &lt;dbl&gt; | trestbps &lt;dbl&gt; | chol &lt;dbl&gt; | fbs &lt;dbl&gt; | restecg &lt;dbl&gt; | thalach &lt;dbl&gt; | exang &lt;dbl&gt; | oldpeak &lt;dbl&gt; | slope &lt;dbl&gt; | ca &lt;dbl&gt; | thal &lt;dbl&gt; | condition &lt;dbl&gt; |\n",
       "|---|---|---|---|---|---|---|---|---|---|---|---|---|---|\n",
       "| 69 | 1 | 0 | 160 | 234 | 1 | 2 | 131 | 0 | 0.1 | 1 | 1 | 0 | 0 |\n",
       "| 69 | 0 | 0 | 140 | 239 | 0 | 0 | 151 | 0 | 1.8 | 0 | 2 | 0 | 0 |\n",
       "| 66 | 0 | 0 | 150 | 226 | 0 | 0 | 114 | 0 | 2.6 | 2 | 0 | 0 | 0 |\n",
       "| ⋮ | ⋮ | ⋮ | ⋮ | ⋮ | ⋮ | ⋮ | ⋮ | ⋮ | ⋮ | ⋮ | ⋮ | ⋮ | ⋮ |\n",
       "| 35 | 1 | 3 | 120 | 198 | 0 | 0 | 130 | 1 | 1.6 | 1 | 0 | 2 | 1 |\n",
       "| 35 | 0 | 3 | 138 | 183 | 0 | 0 | 182 | 0 | 1.4 | 0 | 0 | 0 | 0 |\n",
       "| 35 | 1 | 3 | 126 | 282 | 0 | 2 | 156 | 1 | 0.0 | 0 | 0 | 2 | 1 |\n",
       "\n"
      ],
      "text/plain": [
       "    age sex cp trestbps chol fbs restecg thalach exang oldpeak slope ca thal\n",
       "1   69  1   0  160      234  1   2       131     0     0.1     1     1  0   \n",
       "2   69  0   0  140      239  0   0       151     0     1.8     0     2  0   \n",
       "3   66  0   0  150      226  0   0       114     0     2.6     2     0  0   \n",
       "⋮   ⋮   ⋮   ⋮  ⋮        ⋮    ⋮   ⋮       ⋮       ⋮     ⋮       ⋮     ⋮  ⋮   \n",
       "295 35  1   3  120      198  0   0       130     1     1.6     1     0  2   \n",
       "296 35  0   3  138      183  0   0       182     0     1.4     0     0  0   \n",
       "297 35  1   3  126      282  0   2       156     1     0.0     0     0  2   \n",
       "    condition\n",
       "1   0        \n",
       "2   0        \n",
       "3   0        \n",
       "⋮   ⋮        \n",
       "295 1        \n",
       "296 0        \n",
       "297 1        "
      ]
     },
     "metadata": {},
     "output_type": "display_data"
    }
   ],
   "source": [
    "data <- read_csv(\"https://raw.githubusercontent.com/LordofSabres/Team_Pineapples_DSCI_100/main/heart_cleveland_upload.csv\")\n",
    "data"
   ]
  },
  {
   "cell_type": "code",
   "execution_count": 4,
   "id": "a04d34ff-4df5-4b26-a643-03a2e1727819",
   "metadata": {},
   "outputs": [
    {
     "data": {
      "text/html": [
       "<table class=\"dataframe\">\n",
       "<caption>A tibble: 297 × 7</caption>\n",
       "<thead>\n",
       "\t<tr><th scope=col>age</th><th scope=col>cp</th><th scope=col>trestbps</th><th scope=col>chol</th><th scope=col>fbs</th><th scope=col>restecg</th><th scope=col>condition</th></tr>\n",
       "\t<tr><th scope=col>&lt;dbl&gt;</th><th scope=col>&lt;dbl&gt;</th><th scope=col>&lt;dbl&gt;</th><th scope=col>&lt;dbl&gt;</th><th scope=col>&lt;dbl&gt;</th><th scope=col>&lt;dbl&gt;</th><th scope=col>&lt;dbl&gt;</th></tr>\n",
       "</thead>\n",
       "<tbody>\n",
       "\t<tr><td>69</td><td>0</td><td>160</td><td>234</td><td>1</td><td>2</td><td>0</td></tr>\n",
       "\t<tr><td>69</td><td>0</td><td>140</td><td>239</td><td>0</td><td>0</td><td>0</td></tr>\n",
       "\t<tr><td>66</td><td>0</td><td>150</td><td>226</td><td>0</td><td>0</td><td>0</td></tr>\n",
       "\t<tr><td>⋮</td><td>⋮</td><td>⋮</td><td>⋮</td><td>⋮</td><td>⋮</td><td>⋮</td></tr>\n",
       "\t<tr><td>35</td><td>3</td><td>120</td><td>198</td><td>0</td><td>0</td><td>1</td></tr>\n",
       "\t<tr><td>35</td><td>3</td><td>138</td><td>183</td><td>0</td><td>0</td><td>0</td></tr>\n",
       "\t<tr><td>35</td><td>3</td><td>126</td><td>282</td><td>0</td><td>2</td><td>1</td></tr>\n",
       "</tbody>\n",
       "</table>\n"
      ],
      "text/latex": [
       "A tibble: 297 × 7\n",
       "\\begin{tabular}{lllllll}\n",
       " age & cp & trestbps & chol & fbs & restecg & condition\\\\\n",
       " <dbl> & <dbl> & <dbl> & <dbl> & <dbl> & <dbl> & <dbl>\\\\\n",
       "\\hline\n",
       "\t 69 & 0 & 160 & 234 & 1 & 2 & 0\\\\\n",
       "\t 69 & 0 & 140 & 239 & 0 & 0 & 0\\\\\n",
       "\t 66 & 0 & 150 & 226 & 0 & 0 & 0\\\\\n",
       "\t ⋮ & ⋮ & ⋮ & ⋮ & ⋮ & ⋮ & ⋮\\\\\n",
       "\t 35 & 3 & 120 & 198 & 0 & 0 & 1\\\\\n",
       "\t 35 & 3 & 138 & 183 & 0 & 0 & 0\\\\\n",
       "\t 35 & 3 & 126 & 282 & 0 & 2 & 1\\\\\n",
       "\\end{tabular}\n"
      ],
      "text/markdown": [
       "\n",
       "A tibble: 297 × 7\n",
       "\n",
       "| age &lt;dbl&gt; | cp &lt;dbl&gt; | trestbps &lt;dbl&gt; | chol &lt;dbl&gt; | fbs &lt;dbl&gt; | restecg &lt;dbl&gt; | condition &lt;dbl&gt; |\n",
       "|---|---|---|---|---|---|---|\n",
       "| 69 | 0 | 160 | 234 | 1 | 2 | 0 |\n",
       "| 69 | 0 | 140 | 239 | 0 | 0 | 0 |\n",
       "| 66 | 0 | 150 | 226 | 0 | 0 | 0 |\n",
       "| ⋮ | ⋮ | ⋮ | ⋮ | ⋮ | ⋮ | ⋮ |\n",
       "| 35 | 3 | 120 | 198 | 0 | 0 | 1 |\n",
       "| 35 | 3 | 138 | 183 | 0 | 0 | 0 |\n",
       "| 35 | 3 | 126 | 282 | 0 | 2 | 1 |\n",
       "\n"
      ],
      "text/plain": [
       "    age cp trestbps chol fbs restecg condition\n",
       "1   69  0  160      234  1   2       0        \n",
       "2   69  0  140      239  0   0       0        \n",
       "3   66  0  150      226  0   0       0        \n",
       "⋮   ⋮   ⋮  ⋮        ⋮    ⋮   ⋮       ⋮        \n",
       "295 35  3  120      198  0   0       1        \n",
       "296 35  3  138      183  0   0       0        \n",
       "297 35  3  126      282  0   2       1        "
      ]
     },
     "metadata": {},
     "output_type": "display_data"
    },
    {
     "data": {
      "text/html": [
       "<table class=\"dataframe\">\n",
       "<caption>A tibble: 148 × 7</caption>\n",
       "<thead>\n",
       "\t<tr><th scope=col>age</th><th scope=col>cp</th><th scope=col>trestbps</th><th scope=col>chol</th><th scope=col>fbs</th><th scope=col>restecg</th><th scope=col>condition</th></tr>\n",
       "\t<tr><th scope=col>&lt;dbl&gt;</th><th scope=col>&lt;dbl&gt;</th><th scope=col>&lt;dbl&gt;</th><th scope=col>&lt;dbl&gt;</th><th scope=col>&lt;dbl&gt;</th><th scope=col>&lt;dbl&gt;</th><th scope=col>&lt;dbl&gt;</th></tr>\n",
       "</thead>\n",
       "<tbody>\n",
       "\t<tr><td>62</td><td>1</td><td>128</td><td>208</td><td>1</td><td>2</td><td>0</td></tr>\n",
       "\t<tr><td>68</td><td>2</td><td>118</td><td>277</td><td>0</td><td>0</td><td>0</td></tr>\n",
       "\t<tr><td>52</td><td>2</td><td>136</td><td>196</td><td>0</td><td>2</td><td>0</td></tr>\n",
       "\t<tr><td>⋮</td><td>⋮</td><td>⋮</td><td>⋮</td><td>⋮</td><td>⋮</td><td>⋮</td></tr>\n",
       "\t<tr><td>45</td><td>1</td><td>112</td><td>160</td><td>0</td><td>0</td><td>0</td></tr>\n",
       "\t<tr><td>44</td><td>2</td><td>120</td><td>226</td><td>0</td><td>0</td><td>0</td></tr>\n",
       "\t<tr><td>63</td><td>0</td><td>145</td><td>233</td><td>1</td><td>2</td><td>0</td></tr>\n",
       "</tbody>\n",
       "</table>\n"
      ],
      "text/latex": [
       "A tibble: 148 × 7\n",
       "\\begin{tabular}{lllllll}\n",
       " age & cp & trestbps & chol & fbs & restecg & condition\\\\\n",
       " <dbl> & <dbl> & <dbl> & <dbl> & <dbl> & <dbl> & <dbl>\\\\\n",
       "\\hline\n",
       "\t 62 & 1 & 128 & 208 & 1 & 2 & 0\\\\\n",
       "\t 68 & 2 & 118 & 277 & 0 & 0 & 0\\\\\n",
       "\t 52 & 2 & 136 & 196 & 0 & 2 & 0\\\\\n",
       "\t ⋮ & ⋮ & ⋮ & ⋮ & ⋮ & ⋮ & ⋮\\\\\n",
       "\t 45 & 1 & 112 & 160 & 0 & 0 & 0\\\\\n",
       "\t 44 & 2 & 120 & 226 & 0 & 0 & 0\\\\\n",
       "\t 63 & 0 & 145 & 233 & 1 & 2 & 0\\\\\n",
       "\\end{tabular}\n"
      ],
      "text/markdown": [
       "\n",
       "A tibble: 148 × 7\n",
       "\n",
       "| age &lt;dbl&gt; | cp &lt;dbl&gt; | trestbps &lt;dbl&gt; | chol &lt;dbl&gt; | fbs &lt;dbl&gt; | restecg &lt;dbl&gt; | condition &lt;dbl&gt; |\n",
       "|---|---|---|---|---|---|---|\n",
       "| 62 | 1 | 128 | 208 | 1 | 2 | 0 |\n",
       "| 68 | 2 | 118 | 277 | 0 | 0 | 0 |\n",
       "| 52 | 2 | 136 | 196 | 0 | 2 | 0 |\n",
       "| ⋮ | ⋮ | ⋮ | ⋮ | ⋮ | ⋮ | ⋮ |\n",
       "| 45 | 1 | 112 | 160 | 0 | 0 | 0 |\n",
       "| 44 | 2 | 120 | 226 | 0 | 0 | 0 |\n",
       "| 63 | 0 | 145 | 233 | 1 | 2 | 0 |\n",
       "\n"
      ],
      "text/plain": [
       "    age cp trestbps chol fbs restecg condition\n",
       "1   62  1  128      208  1   2       0        \n",
       "2   68  2  118      277  0   0       0        \n",
       "3   52  2  136      196  0   2       0        \n",
       "⋮   ⋮   ⋮  ⋮        ⋮    ⋮   ⋮       ⋮        \n",
       "146 45  1  112      160  0   0       0        \n",
       "147 44  2  120      226  0   0       0        \n",
       "148 63  0  145      233  1   2       0        "
      ]
     },
     "metadata": {},
     "output_type": "display_data"
    },
    {
     "data": {
      "text/html": [
       "<table class=\"dataframe\">\n",
       "<caption>A tibble: 74 × 7</caption>\n",
       "<thead>\n",
       "\t<tr><th scope=col>age</th><th scope=col>cp</th><th scope=col>trestbps</th><th scope=col>chol</th><th scope=col>fbs</th><th scope=col>restecg</th><th scope=col>condition</th></tr>\n",
       "\t<tr><th scope=col>&lt;dbl&gt;</th><th scope=col>&lt;dbl&gt;</th><th scope=col>&lt;dbl&gt;</th><th scope=col>&lt;dbl&gt;</th><th scope=col>&lt;dbl&gt;</th><th scope=col>&lt;dbl&gt;</th><th scope=col>&lt;dbl&gt;</th></tr>\n",
       "</thead>\n",
       "<tbody>\n",
       "\t<tr><td>52</td><td>2</td><td>136</td><td>196</td><td>0</td><td>2</td><td>0</td></tr>\n",
       "\t<tr><td>76</td><td>2</td><td>140</td><td>197</td><td>0</td><td>1</td><td>0</td></tr>\n",
       "\t<tr><td>64</td><td>3</td><td>128</td><td>263</td><td>0</td><td>0</td><td>0</td></tr>\n",
       "\t<tr><td>⋮</td><td>⋮</td><td>⋮</td><td>⋮</td><td>⋮</td><td>⋮</td><td>⋮</td></tr>\n",
       "\t<tr><td>56</td><td>3</td><td>132</td><td>184</td><td>0</td><td>2</td><td>1</td></tr>\n",
       "\t<tr><td>46</td><td>3</td><td>140</td><td>311</td><td>0</td><td>0</td><td>1</td></tr>\n",
       "\t<tr><td>53</td><td>3</td><td>123</td><td>282</td><td>0</td><td>0</td><td>1</td></tr>\n",
       "</tbody>\n",
       "</table>\n"
      ],
      "text/latex": [
       "A tibble: 74 × 7\n",
       "\\begin{tabular}{lllllll}\n",
       " age & cp & trestbps & chol & fbs & restecg & condition\\\\\n",
       " <dbl> & <dbl> & <dbl> & <dbl> & <dbl> & <dbl> & <dbl>\\\\\n",
       "\\hline\n",
       "\t 52 & 2 & 136 & 196 & 0 & 2 & 0\\\\\n",
       "\t 76 & 2 & 140 & 197 & 0 & 1 & 0\\\\\n",
       "\t 64 & 3 & 128 & 263 & 0 & 0 & 0\\\\\n",
       "\t ⋮ & ⋮ & ⋮ & ⋮ & ⋮ & ⋮ & ⋮\\\\\n",
       "\t 56 & 3 & 132 & 184 & 0 & 2 & 1\\\\\n",
       "\t 46 & 3 & 140 & 311 & 0 & 0 & 1\\\\\n",
       "\t 53 & 3 & 123 & 282 & 0 & 0 & 1\\\\\n",
       "\\end{tabular}\n"
      ],
      "text/markdown": [
       "\n",
       "A tibble: 74 × 7\n",
       "\n",
       "| age &lt;dbl&gt; | cp &lt;dbl&gt; | trestbps &lt;dbl&gt; | chol &lt;dbl&gt; | fbs &lt;dbl&gt; | restecg &lt;dbl&gt; | condition &lt;dbl&gt; |\n",
       "|---|---|---|---|---|---|---|\n",
       "| 52 | 2 | 136 | 196 | 0 | 2 | 0 |\n",
       "| 76 | 2 | 140 | 197 | 0 | 1 | 0 |\n",
       "| 64 | 3 | 128 | 263 | 0 | 0 | 0 |\n",
       "| ⋮ | ⋮ | ⋮ | ⋮ | ⋮ | ⋮ | ⋮ |\n",
       "| 56 | 3 | 132 | 184 | 0 | 2 | 1 |\n",
       "| 46 | 3 | 140 | 311 | 0 | 0 | 1 |\n",
       "| 53 | 3 | 123 | 282 | 0 | 0 | 1 |\n",
       "\n"
      ],
      "text/plain": [
       "   age cp trestbps chol fbs restecg condition\n",
       "1  52  2  136      196  0   2       0        \n",
       "2  76  2  140      197  0   1       0        \n",
       "3  64  3  128      263  0   0       0        \n",
       "⋮  ⋮   ⋮  ⋮        ⋮    ⋮   ⋮       ⋮        \n",
       "72 56  3  132      184  0   2       1        \n",
       "73 46  3  140      311  0   0       1        \n",
       "74 53  3  123      282  0   0       1        "
      ]
     },
     "metadata": {},
     "output_type": "display_data"
    },
    {
     "data": {
      "text/html": [
       "<table class=\"dataframe\">\n",
       "<caption>A tibble: 74 × 7</caption>\n",
       "<thead>\n",
       "\t<tr><th scope=col>age</th><th scope=col>cp</th><th scope=col>trestbps</th><th scope=col>chol</th><th scope=col>fbs</th><th scope=col>restecg</th><th scope=col>condition</th></tr>\n",
       "\t<tr><th scope=col>&lt;dbl&gt;</th><th scope=col>&lt;dbl&gt;</th><th scope=col>&lt;dbl&gt;</th><th scope=col>&lt;dbl&gt;</th><th scope=col>&lt;dbl&gt;</th><th scope=col>&lt;dbl&gt;</th><th scope=col>&lt;dbl&gt;</th></tr>\n",
       "</thead>\n",
       "<tbody>\n",
       "\t<tr><td>62</td><td>1</td><td>128</td><td>208</td><td>1</td><td>2</td><td>0</td></tr>\n",
       "\t<tr><td>68</td><td>2</td><td>118</td><td>277</td><td>0</td><td>0</td><td>0</td></tr>\n",
       "\t<tr><td>52</td><td>3</td><td>112</td><td>230</td><td>0</td><td>0</td><td>1</td></tr>\n",
       "\t<tr><td>⋮</td><td>⋮</td><td>⋮</td><td>⋮</td><td>⋮</td><td>⋮</td><td>⋮</td></tr>\n",
       "\t<tr><td>62</td><td>3</td><td>120</td><td>267</td><td>0</td><td>0</td><td>1</td></tr>\n",
       "\t<tr><td>44</td><td>2</td><td>120</td><td>226</td><td>0</td><td>0</td><td>0</td></tr>\n",
       "\t<tr><td>63</td><td>0</td><td>145</td><td>233</td><td>1</td><td>2</td><td>0</td></tr>\n",
       "</tbody>\n",
       "</table>\n"
      ],
      "text/latex": [
       "A tibble: 74 × 7\n",
       "\\begin{tabular}{lllllll}\n",
       " age & cp & trestbps & chol & fbs & restecg & condition\\\\\n",
       " <dbl> & <dbl> & <dbl> & <dbl> & <dbl> & <dbl> & <dbl>\\\\\n",
       "\\hline\n",
       "\t 62 & 1 & 128 & 208 & 1 & 2 & 0\\\\\n",
       "\t 68 & 2 & 118 & 277 & 0 & 0 & 0\\\\\n",
       "\t 52 & 3 & 112 & 230 & 0 & 0 & 1\\\\\n",
       "\t ⋮ & ⋮ & ⋮ & ⋮ & ⋮ & ⋮ & ⋮\\\\\n",
       "\t 62 & 3 & 120 & 267 & 0 & 0 & 1\\\\\n",
       "\t 44 & 2 & 120 & 226 & 0 & 0 & 0\\\\\n",
       "\t 63 & 0 & 145 & 233 & 1 & 2 & 0\\\\\n",
       "\\end{tabular}\n"
      ],
      "text/markdown": [
       "\n",
       "A tibble: 74 × 7\n",
       "\n",
       "| age &lt;dbl&gt; | cp &lt;dbl&gt; | trestbps &lt;dbl&gt; | chol &lt;dbl&gt; | fbs &lt;dbl&gt; | restecg &lt;dbl&gt; | condition &lt;dbl&gt; |\n",
       "|---|---|---|---|---|---|---|\n",
       "| 62 | 1 | 128 | 208 | 1 | 2 | 0 |\n",
       "| 68 | 2 | 118 | 277 | 0 | 0 | 0 |\n",
       "| 52 | 3 | 112 | 230 | 0 | 0 | 1 |\n",
       "| ⋮ | ⋮ | ⋮ | ⋮ | ⋮ | ⋮ | ⋮ |\n",
       "| 62 | 3 | 120 | 267 | 0 | 0 | 1 |\n",
       "| 44 | 2 | 120 | 226 | 0 | 0 | 0 |\n",
       "| 63 | 0 | 145 | 233 | 1 | 2 | 0 |\n",
       "\n"
      ],
      "text/plain": [
       "   age cp trestbps chol fbs restecg condition\n",
       "1  62  1  128      208  1   2       0        \n",
       "2  68  2  118      277  0   0       0        \n",
       "3  52  3  112      230  0   0       1        \n",
       "⋮  ⋮   ⋮  ⋮        ⋮    ⋮   ⋮       ⋮        \n",
       "72 62  3  120      267  0   0       1        \n",
       "73 44  2  120      226  0   0       0        \n",
       "74 63  0  145      233  1   2       0        "
      ]
     },
     "metadata": {},
     "output_type": "display_data"
    }
   ],
   "source": [
    "data_filter <- data |>\n",
    "select(age, cp, trestbps, chol, fbs, restecg, condition)\n",
    "data_filter\n",
    "data_slice <- data_filter |>\n",
    "slice_sample(prop=0.5)\n",
    "data_slice\n",
    "data_split <- data_slice |>\n",
    "initial_split(prop = 0.5, strata = condition)\n",
    "data_train <- training(data_split)\n",
    "data_testing <- testing(data_split)\n",
    "data_train\n",
    "data_testing"
   ]
  },
  {
   "cell_type": "raw",
   "id": "c69008b3-fa2e-43f1-9071-bf28f9284712",
   "metadata": {},
   "source": []
  },
  {
   "cell_type": "markdown",
   "id": "dc5956f4-3cb1-412b-94e1-eedaf7c3df65",
   "metadata": {},
   "source": [
    "### INTRODUCTION"
   ]
  },
  {
   "cell_type": "markdown",
   "id": "15d4f96a-f4a1-4fda-95c4-a9fece0e226f",
   "metadata": {},
   "source": [
    "\"Heart disease\" is a catchall term used to describe a variety of conditions affecting the heart or blood vessels. As the heart is responsible for the proper circulation of blood throughout the body, diseases of the heart can have lifelong and potentially fatal consequences, such as heart attacks, heart failure, or strokes. Many factors play a role in an individual’s heart health, from chosen behaviours such as diet, level of exercise or smoking, to genetic variables such as blood pressure and heart rate.  Knowing the influence that medical history has on the risk of heart disease, we aim to create a model that can predict whether a patient has heart disease based on their unique medical history, looking specifically at how cholesterol levels, fasting blood sugar, chest pain, blood pressure, and heart rate could act as potential predictors. \n",
    "\n",
    "The question we aim to answer through the creation of the model is “Can we predict whether or not a patient will be at risk of heart disease based on existing medical history?”. \n",
    "\n",
    "The dataset we will be using to answer this question is the Cleveland Heart Disease database. This database was donated and completed on June 30th, 1988 from the V.A. Medical Center, Long Beach and Cleveland Clinic Foundation. It consists of a total of 76 variables relating to heart disease patients, but for our purposes we will be summarizing it to our 6 chosen predictor variables. "
   ]
  },
  {
   "cell_type": "markdown",
   "id": "86cf5866-5448-4578-8f01-b743d5b3d1a5",
   "metadata": {},
   "source": [
    "### METHODS"
   ]
  },
  {
   "cell_type": "markdown",
   "id": "ba841f88-f2f8-4a18-8dca-8295faf06994",
   "metadata": {},
   "source": [
    "ADD HERE"
   ]
  },
  {
   "cell_type": "markdown",
   "id": "7d91f29c-00cc-4cd5-8a9c-4d577f04ae1e",
   "metadata": {},
   "source": [
    "### Expected outcomes and Significance"
   ]
  },
  {
   "cell_type": "markdown",
   "id": "b6a8d107-1f0f-40e4-b68d-ed04d85dcd8d",
   "metadata": {},
   "source": [
    "All of the variables we selected (age, sex, cholesterol, fasting blood sugar, chest pain, resting ecg, resting blood pressure) are positively correlated with the likelihood of an individual having heart disease. "
   ]
  },
  {
   "cell_type": "markdown",
   "id": "4d7d37c5-2cbb-4d21-adb3-9401a011b03e",
   "metadata": {},
   "source": [
    "If this model is successful, it can be applied to predict an individual's risk of having heart disease based on their age, sex, cholesterol, fasting blood sugar, chest pain, resting ecg, and resting blood pressure."
   ]
  },
  {
   "cell_type": "markdown",
   "id": "b93df756-2d84-4b99-ac77-06f928652b98",
   "metadata": {},
   "source": []
  }
 ],
 "metadata": {
  "kernelspec": {
   "display_name": "R",
   "language": "R",
   "name": "ir"
  },
  "language_info": {
   "codemirror_mode": "r",
   "file_extension": ".r",
   "mimetype": "text/x-r-source",
   "name": "R",
   "pygments_lexer": "r",
   "version": "4.1.3"
  }
 },
 "nbformat": 4,
 "nbformat_minor": 5
}
